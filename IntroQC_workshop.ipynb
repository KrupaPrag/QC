{
 "cells": [
  {
   "cell_type": "code",
   "execution_count": 1,
   "metadata": {
    "slideshow": {
     "slide_type": "skip"
    }
   },
   "outputs": [],
   "source": [
    "from qiskit import *\n",
    "from qiskit.visualization import plot_bloch_vector\n",
    "import matplotlib.pyplot as mplt\n",
    "import seaborn\n",
    "import numpy \n"
   ]
  },
  {
   "cell_type": "markdown",
   "metadata": {
    "hideCode": true,
    "hidePrompt": true,
    "slideshow": {
     "slide_type": "slide"
    }
   },
   "source": [
    "# <font color='maroon'>Session I: Introduction</font>\n",
    "\n",
    "# <font color='maroon'>Quantum Mechanics for Quantum Computing</font>\n",
    "\n",
    "## <font color='teal'>IBM Q & WITS</font>\n",
    "\n",
    "### <font color='navy'>September 2019</font> \n",
    "\n",
    "Need Logo and Correct Title"
   ]
  },
  {
   "cell_type": "markdown",
   "metadata": {
    "hideCode": true,
    "hidePrompt": true,
    "slideshow": {
     "slide_type": "slide"
    }
   },
   "source": [
    "# <font color='maroon'>WTF: What The Fuss <font>\n",
    "* **What** is Quantum Computing?\n",
    "* **Why** are Quantum Computers seen as ***powerful***?\n",
    "* To **whom** are Quantum Computers beneficial?\n",
    "* **How** do Quantum Computers differ from classical computers?\n",
    "* **When** will Quantum Computers have zero fault tolerance?\n"
   ]
  },
  {
   "cell_type": "code",
   "execution_count": 2,
   "metadata": {
    "hideCode": true,
    "hidePrompt": true,
    "slideshow": {
     "collapsed": true,
     "hide_input": true,
     "slide_type": "slide",
     "trusted": true
    }
   },
   "outputs": [
    {
     "data": {
      "text/html": [
       "<video src=\"QC_intro_ted.mp4\" controls  >\n",
       "      Your browser does not support the <code>video</code> element.\n",
       "    </video>"
      ],
      "text/plain": [
       "<IPython.core.display.Video object>"
      ]
     },
     "execution_count": 2,
     "metadata": {},
     "output_type": "execute_result"
    }
   ],
   "source": [
    "from IPython.display import Video\n",
    "Video(\"QC_intro_ted.mp4\")\n"
   ]
  },
  {
   "cell_type": "markdown",
   "metadata": {
    "hideCode": true,
    "hidePrompt": true,
    "slideshow": {
     "slide_type": "slide"
    }
   },
   "source": [
    "##  <font color='maroon'>Qubits</font>\n",
    "\n",
    "* The basic unit of quantum information.\n",
    "* Representation:\n",
    "    * Bloch Sphere.\n",
    "    * Bra-Ket notation.\n",
    "* Properties:\n",
    "    * Heisenburg's Principle.\n",
    "    * Superposition. \n",
    "    * Entanglement.\n",
    "    * Interference. "
   ]
  },
  {
   "cell_type": "markdown",
   "metadata": {
    "slideshow": {
     "slide_type": "slide"
    }
   },
   "source": [
    "###  <font color='Teal'>Qubits vs Bits</font>\n",
    "\n",
    "\n",
    "<img src=\"quibit_bit1.jpg\">\n",
    "\n"
   ]
  },
  {
   "cell_type": "markdown",
   "metadata": {
    "slideshow": {
     "slide_type": "notes"
    }
   },
   "source": [
    "Discuss with this analogy\n",
    "\n",
    "<img src=\"qubit_bit.jpg\">\n"
   ]
  },
  {
   "cell_type": "markdown",
   "metadata": {
    "hideCode": true,
    "hidePrompt": true,
    "slideshow": {
     "slide_type": "slide"
    }
   },
   "source": [
    "###  <font color='Teal'>Qubits</font>\n",
    "\n",
    "#### <font color='Navy'>Representation</font>\n",
    "\n",
    "**Bloch Sphere**\n",
    "\n",
    "The `amount of of the zero state and the one state` we have are both complex numbers. They have real and imaginary parts. Two numbers with two degrees of freedom means 4 degrees of freedom. \n",
    "\n",
    "However, because the squares of these numbers must add up to one, we lose a degree of freedom, and can cram this 4D number into 3D space and draw it as points on the surface of a sphere. \n",
    "\n"
   ]
  },
  {
   "cell_type": "code",
   "execution_count": 3,
   "metadata": {
    "hideCode": true,
    "hideOutput": true
   },
   "outputs": [],
   "source": [
    "qc = QuantumCircuit(1)\n"
   ]
  },
  {
   "cell_type": "code",
   "execution_count": 4,
   "metadata": {
    "hideCode": true,
    "hideOutput": true
   },
   "outputs": [],
   "source": [
    "# z measurement of qubit 0\n",
    "measure_z = QuantumCircuit(1,1)\n",
    "measure_z.measure(0,0);\n",
    "\n",
    "# x measurement of qubit 0\n",
    "measure_x = QuantumCircuit(1,1)\n",
    "measure_x.h(0)\n",
    "measure_x.measure(0,0)\n",
    "\n",
    "# y measurement of qubit 0\n",
    "measure_y = QuantumCircuit(1,1)\n",
    "measure_y.sdg(0)\n",
    "measure_y.h(0)\n",
    "measure_y.measure(0,0);"
   ]
  },
  {
   "cell_type": "code",
   "execution_count": 5,
   "metadata": {
    "hideCode": true,
    "hideOutput": true
   },
   "outputs": [],
   "source": [
    "shots = 2**14 # number of samples used for statistics\n",
    "\n",
    "bloch_vector = []\n",
    "for measure_circuit in [measure_x, measure_y, measure_z]:\n",
    "    \n",
    "    # run the circuit with a the selected measurement and get the number of samples that output each bit value\n",
    "    counts = execute(qc+measure_circuit,Aer.get_backend('qasm_simulator'),shots=shots).result().get_counts()\n",
    "\n",
    "    # calculate the probabilities for each bit value\n",
    "    probs = {}\n",
    "    for output in ['0','1']:\n",
    "        if output in counts:\n",
    "            probs[output] = counts[output]/shots\n",
    "        else:\n",
    "            probs[output] = 0\n",
    "            \n",
    "    bloch_vector.append( probs['0'] -  probs['1'] )"
   ]
  },
  {
   "cell_type": "code",
   "execution_count": 6,
   "metadata": {
    "hideCode": true,
    "hideOutput": true
   },
   "outputs": [
    {
     "data": {
      "text/html": [
       "\n",
       "<style>\n",
       ".output_png {\n",
       "    display: table-cell;\n",
       "    text-align: right;\n",
       "    vertical-align: middle;\n",
       "}\n",
       "</style>\n"
      ],
      "text/plain": [
       "<IPython.core.display.HTML object>"
      ]
     },
     "execution_count": 6,
     "metadata": {},
     "output_type": "execute_result"
    }
   ],
   "source": [
    "from IPython.core.display import HTML\n",
    "HTML(\"\"\"\n",
    "<style>\n",
    ".output_png {\n",
    "    display: table-cell;\n",
    "    text-align: right;\n",
    "    vertical-align: middle;\n",
    "}\n",
    "</style>\n",
    "\"\"\")\n"
   ]
  },
  {
   "cell_type": "code",
   "execution_count": 7,
   "metadata": {
    "hideCode": true
   },
   "outputs": [
    {
     "data": {
      "image/png": "[encoded data removed]",
      "text/plain": [
       "<Figure size 360x360 with 1 Axes>"
      ]
     },
     "execution_count": 7,
     "metadata": {},
     "output_type": "execute_result"
    }
   ],
   "source": [
    "plot_bloch_vector(bloch_vector)"
   ]
  },
  {
   "cell_type": "markdown",
   "metadata": {
    "hideCode": true,
    "hidePrompt": true,
    "slideshow": {
     "slide_type": "slide"
    }
   },
   "source": [
    "**Bloch Spehre & Bra-Ket Notation**\n",
    "<img src=\"bloch_sphere.png\">\n",
    "* Mathematical formalisation.\n",
    "* Ket: $|a\\rangle$ is a vector.\n",
    "* Bra: $\\langle a|$ is the complex conjugate of the Ket.\n",
    "* State $|0\\rangle$ = $\\begin{bmatrix}\n",
    "           1 \\\\\n",
    "           0\n",
    "         \\end{bmatrix}$ and $|1\\rangle$ = $\\begin{bmatrix}\n",
    "           0 \\\\\n",
    "           1\n",
    "         \\end{bmatrix}$\n"
   ]
  },
  {
   "cell_type": "markdown",
   "metadata": {
    "slideshow": {
     "slide_type": "slide"
    }
   },
   "source": [
    "##### <font color='Purple'>Heisenburg Uncertainty Principle</font>\n",
    "* Can never simultaneously know the following for an object:\n",
    "    * Exact position. \n",
    "    * Exact speed.  "
   ]
  },
  {
   "cell_type": "markdown",
   "metadata": {
    "hideCode": true,
    "hidePrompt": false,
    "slideshow": {
     "slide_type": "slide"
    }
   },
   "source": [
    "##### <font color='Purple'>Superposition</font>\n",
    "* **Definition:** Superposition refers to a `combination of states` we would ordinarily independently describe.\n",
    "* **Bra-Ket Notation:** $|\\phi\\rangle = \\alpha |0\\rangle + \\beta |1\\rangle$.\n",
    "* **Gate:** Hadamard $H = \\dfrac{1}{\\sqrt{2}}\\begin{bmatrix}\n",
    "           1 & 1 \\\\\n",
    "           1 & -1\n",
    "         \\end{bmatrix}$.\n",
    "<img src=\"q-propfig1.svg\">"
   ]
  },
  {
   "cell_type": "markdown",
   "metadata": {
    "slideshow": {
     "slide_type": "slide"
    }
   },
   "source": [
    "##### <font color='Purple'>Entanglement</font>\n",
    "* **Definition:** Entanglement is a famously counter-intuitive quantum phenomenon describing behavior we never see in the classical world. Entangled particles `behave together as a system` in ways that cannot be explained using classical logic.\n",
    "* **Requirement:** At least two quibits. \n",
    "* **Gate:** Controlled / Conditional NOT $CNOT $\n",
    "<img src=\"q-propfig2.svg\">"
   ]
  },
  {
   "cell_type": "markdown",
   "metadata": {
    "hideCode": false,
    "hidePrompt": false,
    "slideshow": {
     "slide_type": "slide"
    }
   },
   "source": [
    "##### <font color='Purple'>Entanglement</font>\n",
    "* **Definition:** Entanglement is a famously counter-intuitive quantum phenomenon describing behavior we never see in the classical world. Entangled particles `behave together as a system` in ways that cannot be explained using classical logic.\n",
    "* **Requirement:** At least two quibits. \n",
    "* **Gate:** Controlled / Conditional NOT $CNOT = \\begin{bmatrix}\n",
    "           1 & 0 & 0 & 0 \\\\\n",
    "           0 & 1 & 0 & 0 \\\\\n",
    "           0 & 0 & 0 & 1 \\\\\n",
    "           1 & 0 & 0 & 0\n",
    "         \\end{bmatrix}$.\n",
    "<img src=\"q-propfig2.svg\">"
   ]
  },
  {
   "cell_type": "markdown",
   "metadata": {
    "hideCode": false,
    "hidePrompt": false,
    "slideshow": {
     "slide_type": "slide"
    }
   },
   "source": [
    "##### <font color='Purple'>Interferance</font>\n",
    "* **Definition**: Quantum states can undergo interference due to a phenomenon known as phase. Quantum interference can be understood similarly to wave interference; when two waves are in phase, their amplitudes add, and when they are out of phase, their amplitudes cancel.\n",
    "\n",
    "\n",
    "<img src=\"q-propfig3.svg\">"
   ]
  },
  {
   "cell_type": "markdown",
   "metadata": {
    "slideshow": {
     "slide_type": "slide"
    }
   },
   "source": [
    "### <font color='Teal'>Operations and Bra-Ket Notation</font>\n",
    "\n",
    "$|STATE\\rangle = \\alpha|0\\rangle + \\beta|1\\rangle $\n",
    "\n",
    "**Probabilities**\n",
    "* NOTE: $|\\alpha|^2+|\\beta|^2 = 1$"
   ]
  },
  {
   "cell_type": "markdown",
   "metadata": {
    "slideshow": {
     "slide_type": "slide"
    }
   },
   "source": [
    "**0 and 1 Basis** \n",
    "* $|\\phi\\rangle = \\dfrac{1}{\\sqrt{2}}|0\\rangle + \\dfrac{1}{\\sqrt{2}}|1\\rangle $\n",
    "* $|\\psi\\rangle = \\dfrac{1}{\\sqrt{2}}|1\\rangle - \\dfrac{1}{\\sqrt{2}}|0\\rangle $\n",
    "\n",
    "**Hadamard Basis** \n",
    "* $|+\\rangle = \\dfrac{1}{\\sqrt{2}}|0\\rangle + \\dfrac{1}{\\sqrt{2}}|1\\rangle $\n",
    "* $|-\\rangle = \\dfrac{1}{\\sqrt{2}}|0\\rangle - \\dfrac{1}{\\sqrt{2}}|1\\rangle $"
   ]
  },
  {
   "cell_type": "markdown",
   "metadata": {},
   "source": [
    "DO examples on board"
   ]
  },
  {
   "cell_type": "markdown",
   "metadata": {
    "slideshow": {
     "slide_type": "slide"
    }
   },
   "source": [
    "##  <font color='maroon'>Basic Theory</font>\n",
    "\n",
    "* Vector Spaces\n",
    "* Inner Product\n",
    "* Hillbert Spaces\n",
    "* Unitary Operators\n",
    "* Matricies and Tensors\n",
    "* Bra-ket notation \n",
    "\n",
    "Fill in From: \n",
    "https://cds.cern.ch/record/1522001/files/978-1-4614-6336-8_BookBackMatter.pdf\n",
    "\n",
    "\n",
    "http://karin.fq.uh.cu/qct/MMN/extras/Bra-ket_notation-Wiki.pdf\n",
    "\n",
    "https://ocw.mit.edu/courses/physics/8-05-quantum-physics-ii-fall-2013/lecture-notes/MIT8_05F13_Chap_04.pdf"
   ]
  },
  {
   "cell_type": "code",
   "execution_count": null,
   "metadata": {},
   "outputs": [],
   "source": []
  },
  {
   "cell_type": "markdown",
   "metadata": {
    "hideCode": true,
    "hidePrompt": true,
    "slideshow": {
     "slide_type": "slide"
    }
   },
   "source": [
    "##  <font color='Teal'>Quantum Logic Gates</font>\n",
    "\n",
    "\n",
    "Discuss, images\n",
    "* https://towardsdatascience.com/demystifying-quantum-gates-one-qubit-at-a-time-54404ed80640\n",
    "* https://towardsdatascience.com/building-your-own-quantum-circuits-in-python-e9031b548fa7\n",
    "* https://pdfs.semanticscholar.org/a83c/70da5e7068ff6c878d021ef0b70611d7d545.pdf\n",
    "* http://vlsicad.eecs.umich.edu/BK/Slots/cache/www.eecs.umich.edu/~jhayes/JPH_DACslides_Jun03.pdf\n",
    "* https://www.quantiki.org/wiki/quantum-gates\n"
   ]
  },
  {
   "cell_type": "markdown",
   "metadata": {
    "hideCode": true,
    "hidePrompt": false,
    "slideshow": {
     "slide_type": "slide"
    }
   },
   "source": [
    "###  <font color='Navy'>Logic Gates Operations</font>\n",
    "\n"
   ]
  },
  {
   "cell_type": "markdown",
   "metadata": {
    "hideCode": true,
    "hidePrompt": true,
    "slideshow": {
     "slide_type": "slide"
    }
   },
   "source": [
    "###  <font color='Navy'>Setting Up Logic Gates</font>\n"
   ]
  },
  {
   "cell_type": "markdown",
   "metadata": {
    "hideCode": true,
    "hidePrompt": true,
    "slideshow": {
     "slide_type": "slide"
    }
   },
   "source": [
    "#  <font color='maroon'>Quantum Applications</font>\n",
    "\n",
    "* https://youtu.be/JhHMJCUmq28\n",
    "* https://medium.com/@jackkrupansky/what-applications-are-suitable-for-a-quantum-computer-5584ef62c38a\n",
    "\n",
    "\n"
   ]
  }
 ],
 "metadata": {
  "celltoolbar": "Slideshow",
  "hide_code_all_hidden": true,
  "kernelspec": {
   "display_name": "Python 3",
   "language": "python",
   "name": "python3"
  },
  "language_info": {
   "codemirror_mode": {
    "name": "ipython",
    "version": 3
   },
   "file_extension": ".py",
   "mimetype": "text/x-python",
   "name": "python",
   "nbconvert_exporter": "python",
   "pygments_lexer": "ipython3",
   "version": "3.7.3"
  }
 },
 "nbformat": 4,
 "nbformat_minor": 2
}
